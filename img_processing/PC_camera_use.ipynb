{
 "cells": [
  {
   "cell_type": "markdown",
   "metadata": {},
   "source": [
    "Detecting movement witch PC camera"
   ]
  },
  {
   "cell_type": "code",
   "execution_count": null,
   "metadata": {},
   "outputs": [],
   "source": [
    "import cv2\n",
    "import numpy as np\n",
    "\n",
    "video = cv2.VideoCapture(0)\n",
    "\n",
    "down = np.array([0,0,0])\n",
    "up = np.array([100,100,100])\n",
    "start_contr = 10\n",
    "contr = 0\n",
    "_, frame = video.read()\n",
    "_, last = video.read()\n",
    "\n",
    "while(True):    \n",
    "    _, frame = video.read()\n",
    "    diff = cv2.absdiff(frame,last)\n",
    "    mask = cv2.inRange(diff, down, up)    \n",
    "    zmiany = (mask == 0).sum()\n",
    "\n",
    "    if zmiany > 40:\n",
    "        contr = start_contr\n",
    "    elif contr > 0:\n",
    "        contr -= 1   \n",
    "    if contr > 0:\n",
    "        color = (0,0,255) \n",
    "    else:\n",
    "        color = (0,255,0)\n",
    "\n",
    "    last = frame\n",
    "    frame2 = frame.copy()\n",
    "\n",
    "    cv2.circle(frame2, (25, 30), 15, color, thickness=10, lineType=8, shift=0)               \n",
    "    cv2.imshow('original', frame2)\n",
    "    cv2.imshow('difference', diff)\n",
    "    cv2.imshow('mask', mask)\n",
    "\n",
    "    # If you want to stop the program press ESC\n",
    "    k = cv2.waitKey(5) & 0xFF\n",
    "    if k == 27 :\n",
    "        break\n",
    "\n",
    "cv2.destroyAllWindows()\n",
    "video.release()"
   ]
  }
 ],
 "metadata": {
  "kernelspec": {
   "display_name": "Python 3",
   "language": "python",
   "name": "python3"
  },
  "language_info": {
   "name": "python",
   "version": "3.11.1"
  },
  "orig_nbformat": 4
 },
 "nbformat": 4,
 "nbformat_minor": 2
}
